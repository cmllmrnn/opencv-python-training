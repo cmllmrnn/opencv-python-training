{
 "cells": [
  {
   "cell_type": "code",
   "execution_count": 9,
   "metadata": {},
   "outputs": [
    {
     "name": "stdout",
     "output_type": "stream",
     "text": [
      "(1182, 1000, 3)\n",
      "3546000\n",
      "uint8\n"
     ]
    }
   ],
   "source": [
    "import cv2\n",
    "\n",
    "image = cv2.imread('bernie.jpg', cv2.IMREAD_COLOR)\n",
    "\n",
    "cropped_image = image[302:(302+322), 261:(261+339)]\n",
    "\n",
    "def show_image(image):\n",
    "    cv2.namedWindow('image', cv2.WINDOW_NORMAL)\n",
    "    cv2.imshow('image', image)\n",
    "    cv2.waitKey(0)\n",
    "    cv2.destroyAllWindows()\n",
    "    \n",
    "show_image(cropped_image)\n",
    "\n",
    "print(image.shape)\n",
    "print(image.size)\n",
    "print(image.dtype)\n",
    "\n",
    "pixel = image[261, 302]\n",
    "\n",
    "modified_image = image[302:(302+322), 261:(261+339)]\n",
    "modified_image[:, :, 0] = 123\n",
    "#cv2.imshow('original_image', cropped_image)\n",
    "cv2.imshow('modified_image', modified_image)\n",
    "cv2.waitKey(0)\n",
    "cv2.destroyAllWindows()"
   ]
  },
  {
   "cell_type": "code",
   "execution_count": 19,
   "metadata": {
    "collapsed": true
   },
   "outputs": [],
   "source": [
    "image[302:(302+322), 261:(261+339)] = 255\n",
    "cv2.imshow('modified_image', image)\n",
    "cv2.waitKey(0)\n",
    "cv2.destroyAllWindows()"
   ]
  },
  {
   "cell_type": "code",
   "execution_count": 17,
   "metadata": {},
   "outputs": [
    {
     "name": "stdout",
     "output_type": "stream",
     "text": [
      "(264, 353, 129, 73)\n"
     ]
    }
   ],
   "source": [
    "import cv2\n",
    "from_center = False\n",
    "image = cv2.imread('bernie.jpg', cv2.IMREAD_COLOR)\n",
    "region = cv2.selectROI(image, from_center)\n",
    "cv2.waitKey(0)\n",
    "cv2.destroyAllWindows()\n",
    "print(region)"
   ]
  },
  {
   "cell_type": "code",
   "execution_count": 21,
   "metadata": {},
   "outputs": [],
   "source": [
    "image = cv2.imread('bernie.jpg', cv2.IMREAD_COLOR)\n",
    "cropped = image[region[1]:(region[1]+region[3]), region[0]:(region[0]+region[2])]\n",
    "\n",
    "def show_image(image):\n",
    "    cv2.namedWindow('image', cv2.WINDOW_AUTOSIZE)\n",
    "    cv2.imshow('image', image)\n",
    "    cv2.waitKey(0)\n",
    "    cv2.destroyAllWindows()\n",
    "show_image(cropped)"
   ]
  },
  {
   "cell_type": "code",
   "execution_count": 20,
   "metadata": {
    "collapsed": true
   },
   "outputs": [],
   "source": [
    "import cv2\n",
    "\n",
    "bernie = cv2.imread('../assets/bernie.jpg', cv2.IMREAD_COLOR)\n",
    "\n",
    "def show_image(image):\n",
    "    cv2.namedWindow('image', cv2.WINDOW_NORMAL)\n",
    "    cv2.imshow('image', image)\n",
    "    cv2.waitKey(0)\n",
    "    cv2.destroyAllWindows()\n",
    "    \n",
    "grayscale_bernie = cv2.cvtColor(bernie, cv2.COLOR_BGR2GRAY)\n",
    "\n",
    "show_image(grayscale_bernie)"
   ]
  },
  {
   "cell_type": "code",
   "execution_count": 25,
   "metadata": {
    "collapsed": true
   },
   "outputs": [],
   "source": [
    "bernie = cv2.imread('../assets/bernie.jpg', cv2.IMREAD_COLOR)\n",
    "bernie = cv2.cvtColor(bernie, cv2.COLOR_BGR2RGB)\n",
    "\n",
    "bernie = cv2.imread('../assets/bernie.jpg', cv2.IMREAD_COLOR)\n",
    "bernie = cv2.cvtColor(bernie, cv2.COLOR_BGR2HSV)\n",
    "\n",
    "show_image(bernie)"
   ]
  },
  {
   "cell_type": "code",
   "execution_count": 31,
   "metadata": {},
   "outputs": [],
   "source": [
    "bernie = cv2.imread('../assets/bernie.jpg')\n",
    "howie = cv2.imread('../assets/howie.png')\n",
    "\n",
    "# adds two images in one\n",
    "sum_image = cv2.add(bernie, howie)\n",
    "#show_image(sum_image)\n",
    "\n",
    "blended = cv2.addWeighted(bernie, 0.5, howie, 0.5, 0)\n",
    "show_image(blended)"
   ]
  },
  {
   "cell_type": "code",
   "execution_count": 2,
   "metadata": {},
   "outputs": [
    {
     "name": "stdout",
     "output_type": "stream",
     "text": [
      "(823, 638, 3)\n",
      "(205, 159, 3)\n"
     ]
    }
   ],
   "source": [
    "import cv2\n",
    "\n",
    "# load the logo to use\n",
    "big_bang = cv2.imread('../assets/big-bang.jpg')\n",
    "bernie = cv2.imread('../assets/bernie.jpg', cv2.IMREAD_COLOR)\n",
    "print(big_bang.shape)\n",
    "\n",
    "big_bang = cv2.resize(big_bang, (int(big_bang.shape[1]* .25), int(big_bang.shape[0]*.25)))\n",
    "print(big_bang.shape)\n",
    "\n",
    "# get the properties of the logo\n",
    "rows, cols, channels = big_bang.shape\n",
    "\n",
    "# let's put the logo at the top-left corner\n",
    "roi = bernie[0:rows, 0:cols]\n",
    "\n",
    "cv2.imshow('roi', roi)\n",
    "cv2.waitKey(0)\n",
    "cv2.destroyAllWindows()\n",
    "\n",
    "# create a mask of the logo\n",
    "\n",
    "# convert the image to grayscale for thresholding\n",
    "bigbang_gray = cv2.cvtColor(big_bang, cv2.COLOR_BGR2GRAY)\n",
    "\n",
    "# first argument is the source image\n",
    "# second argument is the threshold value\n",
    "# third argument is the value to use if threshold is reached\n",
    "# cv2.THRESH_BINARY_INV reverses the condition of the third argument\n",
    "ret, mask = cv2.threshold(bigbang_gray, 220, 255, cv2.THRESH_BINARY_INV)\n",
    "\n",
    "cv2.imshow('mask', mask)\n",
    "cv2.waitKey(0)\n",
    "cv2.destroyAllWindows()\n",
    "\n",
    "# create the inverse mask\n",
    "mask_inv = cv2.bitwise_not(mask)\n",
    "cv2.imshow('mask_inv', mask_inv)\n",
    "cv2.waitKey(0)\n",
    "cv2.destroyAllWindows()\n",
    "\n",
    "# black out the area of logo in ROI\n",
    "bernie_bg = cv2.bitwise_and(roi, roi, mask=mask_inv)\n",
    "cv2.imshow('bernie_bg', bernie_bg)\n",
    "cv2.waitKey(0)\n",
    "cv2.destroyAllWindows()\n",
    "\n",
    "#take region of logo from logo image\n",
    "bigbang_fg = cv2.bitwise_and(big_bang, big_bang, mask=mask)\n",
    "cv2.imshow('bigbang_fg', bigbang_fg)\n",
    "cv2.waitKey(0)\n",
    "cv2.destroyAllWindows()\n",
    "\n",
    "# put logo on region of interest\n",
    "dst = cv2.add(bernie_bg, bigbang_fg)\n",
    "bernie[0:rows, 0:cols] = dst\n",
    "\n",
    "cv2.namedWindow('bernie_bigbang', cv2.WINDOW_AUTOSIZE)\n",
    "cv2.imshow('bernie_bigbang', bernie)\n",
    "cv2.waitKey(0)\n",
    "cv2.destroyAllWindows()"
   ]
  },
  {
   "cell_type": "code",
   "execution_count": 30,
   "metadata": {},
   "outputs": [
    {
     "name": "stdout",
     "output_type": "stream",
     "text": [
      "(115, 437, 3)\n",
      "(82, 238, 3)\n"
     ]
    },
    {
     "data": {
      "text/plain": [
       "True"
      ]
     },
     "execution_count": 30,
     "metadata": {},
     "output_type": "execute_result"
    }
   ],
   "source": [
    "import cv2\n",
    "\n",
    "# load the logo to use\n",
    "acn = cv2.imread('../assets/accenture.png')\n",
    "camille = cv2.imread('../assets/camille.jpg', cv2.IMREAD_COLOR)\n",
    "print(acn.shape)\n",
    "\n",
    "acn = cv2.resize(acn, (int(big_bang.shape[1]*1.5), int(big_bang.shape[0]*.4)))\n",
    "print(acn.shape)\n",
    "\n",
    "# get the properties of the logo\n",
    "rows, cols, channels = acn.shape\n",
    "\n",
    "# let's put the logo at the top-left corner\n",
    "roi = camille[0:rows, 0:cols]\n",
    "\n",
    "cv2.imshow('roi', roi)\n",
    "cv2.waitKey(0)\n",
    "cv2.destroyAllWindows()\n",
    "\n",
    "# create a mask of the logo\n",
    "\n",
    "# convert the image to grayscale for thresholding\n",
    "acn_gray = cv2.cvtColor(acn, cv2.COLOR_BGR2GRAY)\n",
    "\n",
    "# first argument is the source image\n",
    "# second argument is the threshold value\n",
    "# third argument is the value to use if threshold is reached\n",
    "# cv2.THRESH_BINARY_INV reverses the condition of the third argument\n",
    "ret, mask = cv2.threshold(acn_gray, 220, 255, cv2.THRESH_BINARY_INV)\n",
    "\n",
    "cv2.imshow('mask', mask)\n",
    "cv2.waitKey(0)\n",
    "cv2.destroyAllWindows()\n",
    "\n",
    "# create the inverse mask\n",
    "mask_inv = cv2.bitwise_not(mask)\n",
    "cv2.imshow('mask_inv', mask_inv)\n",
    "cv2.waitKey(0)\n",
    "cv2.destroyAllWindows()\n",
    "\n",
    "# black out the area of logo in ROI\n",
    "camille_bg = cv2.bitwise_and(roi, roi, mask=mask_inv)\n",
    "cv2.imshow('camille_bg', camille_bg)\n",
    "cv2.waitKey(0)\n",
    "cv2.destroyAllWindows()\n",
    "\n",
    "#take region of logo from logo image\n",
    "acn_fg = cv2.bitwise_and(acn, acn, mask=mask)\n",
    "cv2.imshow('acn_fg', acn_fg)\n",
    "cv2.waitKey(0)\n",
    "cv2.destroyAllWindows()\n",
    "\n",
    "# put logo on region of interest\n",
    "dst = cv2.add(camille_bg, acn_fg)\n",
    "camille[0:rows, 0:cols] = dst\n",
    "\n",
    "cv2.namedWindow('camille_acn', cv2.WINDOW_NORMAL)\n",
    "cv2.imshow('camille_acn', camille)\n",
    "cv2.waitKey(0)\n",
    "cv2.destroyAllWindows()\n",
    "\n",
    "cv2.imwrite('occeno-camille.jpg', camille)"
   ]
  },
  {
   "cell_type": "code",
   "execution_count": 36,
   "metadata": {
    "collapsed": true
   },
   "outputs": [],
   "source": [
    "import cv2\n",
    "\n",
    "acn = cv2.imread('../assets/accenture.png')\n",
    "acn = cv2.resize(acn, (int(big_bang.shape[1]*1.5), int(big_bang.shape[0]*.4)))\n",
    "acn_gray = cv2.cvtColor(acn, cv2.COLOR_BGR2GRAY)\n",
    "ret, mask = cv2.threshold(acn_gray, 220, 255, cv2.THRESH_BINARY_INV)\n",
    "mask_inv = cv2.bitwise_not(mask)\n",
    "acn_fg = cv2.bitwise_and(acn, acn, mask=mask)\n",
    "\n",
    "cap = cv2.VideoCapture(0)\n",
    "\n",
    "# bool if frame read, frame captured\n",
    "while True:\n",
    "    ret, frame = cap.read()\n",
    "    roi = frame[0:rows, 0:cols]\n",
    "    frame_bg = cv2.bitwise_and(roi, roi, mask=mask_inv)    \n",
    "    dst = cv2.add(frame_bg, acn_fg)\n",
    "    frame[0:rows, 0:cols] = dst\n",
    "    cv2.imshow('webcam', frame)\n",
    "    # esc\n",
    "    if cv2.waitKey(1) == 27:\n",
    "        break\n",
    "cap.release()\n",
    "cv2.destroyAllWindows()"
   ]
  },
  {
   "cell_type": "code",
   "execution_count": 37,
   "metadata": {
    "collapsed": true
   },
   "outputs": [],
   "source": [
    "def apply_invert(frame):\n",
    "    return cv2.bitwise_not(frame)\n",
    "\n",
    "cap = cv2.VideoCapture(0)\n",
    "\n",
    "while True:\n",
    "    _, frame = cap.read()\n",
    "    \n",
    "    invert = apply_invert(frame)\n",
    "    \n",
    "    cv2.imshow('frame', frame)\n",
    "    cv2.imshow('invert', invert)\n",
    "    \n",
    "    k = cv2.waitKey(1)\n",
    "    \n",
    "    if k == ord('q') or k == 27:\n",
    "        cap.release()\n",
    "        cv2.destroyAllWindows()\n",
    "        break\n",
    "    \n",
    "#3-image-filters.py"
   ]
  }
 ],
 "metadata": {
  "kernelspec": {
   "display_name": "Python 3",
   "language": "python",
   "name": "python3"
  },
  "language_info": {
   "codemirror_mode": {
    "name": "ipython",
    "version": 3
   },
   "file_extension": ".py",
   "mimetype": "text/x-python",
   "name": "python",
   "nbconvert_exporter": "python",
   "pygments_lexer": "ipython3",
   "version": "3.6.1"
  }
 },
 "nbformat": 4,
 "nbformat_minor": 2
}
