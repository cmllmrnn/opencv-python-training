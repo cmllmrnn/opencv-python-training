{
 "cells": [
  {
   "cell_type": "code",
   "execution_count": 12,
   "metadata": {
    "collapsed": true
   },
   "outputs": [],
   "source": [
    "import cv2\n",
    "import numpy as np\n",
    "\n",
    "from sklearn.decomposition import PCA\n",
    "pca = PCA(n_components=100)"
   ]
  },
  {
   "cell_type": "code",
   "execution_count": 13,
   "metadata": {
    "collapsed": true
   },
   "outputs": [],
   "source": [
    "# load the image in grayscale\n",
    "mnist = cv2.imread('../datasets/digits.png', 0)"
   ]
  },
  {
   "cell_type": "code",
   "execution_count": 14,
   "metadata": {},
   "outputs": [
    {
     "name": "stdout",
     "output_type": "stream",
     "text": [
      "(1000, 2000)\n"
     ]
    }
   ],
   "source": [
    "print(mnist.shape)"
   ]
  },
  {
   "cell_type": "code",
   "execution_count": 15,
   "metadata": {},
   "outputs": [
    {
     "name": "stdout",
     "output_type": "stream",
     "text": [
      "(50, 100, 20, 20)\n"
     ]
    }
   ],
   "source": [
    "# split the images\n",
    "images = np.array([np.hsplit(row, 100) for row in np.vsplit(mnist, 50)], dtype=np.float32)\n",
    "print(images.shape)"
   ]
  },
  {
   "cell_type": "code",
   "execution_count": 16,
   "metadata": {},
   "outputs": [
    {
     "name": "stdout",
     "output_type": "stream",
     "text": [
      "(2500, 400)\n",
      "(2500, 400)\n"
     ]
    }
   ],
   "source": [
    "# split to train/test\n",
    "train_features = images[:, :50].reshape(-1, (20 * 20))\n",
    "print(train_features.shape)\n",
    "test_features = images[:, 50:100].reshape(-1, (20 * 20))\n",
    "print(test_features.shape)\n",
    "\n",
    "pca.fit(train_features)\n",
    "train_features = pca.transform(train_features)\n",
    "test_features = pca.transform(test_features)"
   ]
  },
  {
   "cell_type": "code",
   "execution_count": 17,
   "metadata": {},
   "outputs": [
    {
     "name": "stdout",
     "output_type": "stream",
     "text": [
      "[[0]\n",
      " [0]\n",
      " [0]\n",
      " ..., \n",
      " [9]\n",
      " [9]\n",
      " [9]]\n"
     ]
    }
   ],
   "source": [
    "# create labels\n",
    "k = np.arange(10)\n",
    "train_labels = np.repeat(k, 250).reshape(-1, 1)\n",
    "test_labels = train_labels.copy()\n",
    "print(train_labels)\n",
    "\n",
    "# mean normalization\n",
    "#train_features -= np.mean(train_features, axis=0)\n",
    "#test_features -= np.mean(train_features, axis=0)"
   ]
  },
  {
   "cell_type": "code",
   "execution_count": 18,
   "metadata": {},
   "outputs": [
    {
     "ename": "error",
     "evalue": "OpenCV(3.4.1) C:\\projects\\opencv-python\\opencv\\modules\\ml\\src\\data.cpp:259: error: (-215) samples.type() == 5 || samples.type() == 4 in function cv::ml::TrainDataImpl::setData\n",
     "output_type": "error",
     "traceback": [
      "\u001b[1;31m---------------------------------------------------------------------------\u001b[0m",
      "\u001b[1;31merror\u001b[0m                                     Traceback (most recent call last)",
      "\u001b[1;32m<ipython-input-18-9682bacb9ec4>\u001b[0m in \u001b[0;36m<module>\u001b[1;34m()\u001b[0m\n\u001b[0;32m      3\u001b[0m \u001b[1;33m\u001b[0m\u001b[0m\n\u001b[0;32m      4\u001b[0m \u001b[1;31m# train the kNN model\u001b[0m\u001b[1;33m\u001b[0m\u001b[1;33m\u001b[0m\u001b[0m\n\u001b[1;32m----> 5\u001b[1;33m \u001b[0mknn\u001b[0m\u001b[1;33m.\u001b[0m\u001b[0mtrain\u001b[0m\u001b[1;33m(\u001b[0m\u001b[0mtrain_features\u001b[0m\u001b[1;33m,\u001b[0m \u001b[0mcv2\u001b[0m\u001b[1;33m.\u001b[0m\u001b[0mml\u001b[0m\u001b[1;33m.\u001b[0m\u001b[0mROW_SAMPLE\u001b[0m\u001b[1;33m,\u001b[0m \u001b[0mtrain_labels\u001b[0m\u001b[1;33m)\u001b[0m\u001b[1;33m\u001b[0m\u001b[0m\n\u001b[0m\u001b[0;32m      6\u001b[0m \u001b[1;33m\u001b[0m\u001b[0m\n\u001b[0;32m      7\u001b[0m \u001b[1;31m# using trained kNN, k=3\u001b[0m\u001b[1;33m\u001b[0m\u001b[1;33m\u001b[0m\u001b[0m\n",
      "\u001b[1;31merror\u001b[0m: OpenCV(3.4.1) C:\\projects\\opencv-python\\opencv\\modules\\ml\\src\\data.cpp:259: error: (-215) samples.type() == 5 || samples.type() == 4 in function cv::ml::TrainDataImpl::setData\n"
     ]
    }
   ],
   "source": [
    "# create kNN model\n",
    "knn = cv2.ml.KNearest_create()\n",
    "\n",
    "# train the kNN model\n",
    "knn.train(train_features, cv2.ml.ROW_SAMPLE, train_labels)\n",
    "\n",
    "# using trained kNN, k=3\n",
    "ret, result, neighbors, dist = knn.findNearest(test_features, 3)"
   ]
  },
  {
   "cell_type": "code",
   "execution_count": null,
   "metadata": {
    "collapsed": true
   },
   "outputs": [],
   "source": []
  },
  {
   "cell_type": "code",
   "execution_count": null,
   "metadata": {
    "collapsed": true
   },
   "outputs": [],
   "source": [
    "# check if the results are correct\n",
    "matches = np.equal(result, test_labels)\n",
    "\n",
    "# convert bool to int\n",
    "matches = matches.astype(np.int)\n",
    "\n",
    "# count the correct predictions\n",
    "correct = np.count_nonzero(matches)\n",
    "\n",
    "# compute the accuracy\n",
    "accuracy = (correct * 100.00) / result.size\n",
    "\n",
    "print('Accuracy KNN: {}'.format(accuracy))\n",
    "\n",
    "model2 = cv2.ml.SVM_create()\n",
    "model2.setKernel(cv2.ml.SVM_LINEAR)\n",
    "model2.setC(2.67)\n",
    "model2.setGamma(5.383)\n",
    "model2.setType(cv2.ml.SVM_C_SVC)\n",
    "model2.train(train_features, cv2.ml.ROW_SAMPLE, train_labels)\n",
    "result2 = model2.predict(test_features)\n",
    "matches2 = np.equal(result2[1], test_labels)\n",
    "matches2 = matches2.astype(np.int)\n",
    "correct2 = np.count_nonzero(matches2)\n",
    "accuracy = (correct2 * 100.00) / result2[1].size\n",
    "print('Accuracy SVM: {}'.format(accuracy))"
   ]
  },
  {
   "cell_type": "code",
   "execution_count": 11,
   "metadata": {},
   "outputs": [
    {
     "name": "stdout",
     "output_type": "stream",
     "text": [
      "(840, 840)\n",
      "(30, 30, 28, 28)\n",
      "(450, 784)\n",
      "(450, 784)\n"
     ]
    },
    {
     "ename": "error",
     "evalue": "OpenCV(3.4.1) C:\\projects\\opencv-python\\opencv\\modules\\ml\\src\\data.cpp:259: error: (-215) samples.type() == 5 || samples.type() == 4 in function cv::ml::TrainDataImpl::setData\n",
     "output_type": "error",
     "traceback": [
      "\u001b[1;31m---------------------------------------------------------------------------\u001b[0m",
      "\u001b[1;31merror\u001b[0m                                     Traceback (most recent call last)",
      "\u001b[1;32m<ipython-input-11-2278eaded987>\u001b[0m in \u001b[0;36m<module>\u001b[1;34m()\u001b[0m\n\u001b[0;32m     25\u001b[0m \u001b[1;33m\u001b[0m\u001b[0m\n\u001b[0;32m     26\u001b[0m \u001b[0mmodel\u001b[0m \u001b[1;33m=\u001b[0m \u001b[0mcv2\u001b[0m\u001b[1;33m.\u001b[0m\u001b[0mml\u001b[0m\u001b[1;33m.\u001b[0m\u001b[0mKNearest_create\u001b[0m\u001b[1;33m(\u001b[0m\u001b[1;33m)\u001b[0m\u001b[1;33m\u001b[0m\u001b[0m\n\u001b[1;32m---> 27\u001b[1;33m \u001b[0mmodel\u001b[0m\u001b[1;33m.\u001b[0m\u001b[0mtrain\u001b[0m\u001b[1;33m(\u001b[0m\u001b[0mtrain_ft\u001b[0m\u001b[1;33m,\u001b[0m \u001b[0mcv2\u001b[0m\u001b[1;33m.\u001b[0m\u001b[0mml\u001b[0m\u001b[1;33m.\u001b[0m\u001b[0mROW_SAMPLE\u001b[0m\u001b[1;33m,\u001b[0m \u001b[0mtrain_lb\u001b[0m\u001b[1;33m)\u001b[0m\u001b[1;33m\u001b[0m\u001b[0m\n\u001b[0m\u001b[0;32m     28\u001b[0m \u001b[0mret\u001b[0m\u001b[1;33m,\u001b[0m \u001b[0mresult\u001b[0m\u001b[1;33m,\u001b[0m \u001b[0mneighbors\u001b[0m\u001b[1;33m,\u001b[0m \u001b[0mdist\u001b[0m \u001b[1;33m=\u001b[0m \u001b[0mmodel\u001b[0m\u001b[1;33m.\u001b[0m\u001b[0mfindNearest\u001b[0m\u001b[1;33m(\u001b[0m\u001b[0mtest_ft\u001b[0m\u001b[1;33m,\u001b[0m \u001b[1;36m3\u001b[0m\u001b[1;33m)\u001b[0m\u001b[1;33m\u001b[0m\u001b[0m\n\u001b[0;32m     29\u001b[0m \u001b[0mmatches\u001b[0m \u001b[1;33m=\u001b[0m \u001b[0mnp\u001b[0m\u001b[1;33m.\u001b[0m\u001b[0mequal\u001b[0m\u001b[1;33m(\u001b[0m\u001b[0mresult\u001b[0m\u001b[1;33m,\u001b[0m \u001b[0mtest_lb\u001b[0m\u001b[1;33m)\u001b[0m\u001b[1;33m\u001b[0m\u001b[0m\n",
      "\u001b[1;31merror\u001b[0m: OpenCV(3.4.1) C:\\projects\\opencv-python\\opencv\\modules\\ml\\src\\data.cpp:259: error: (-215) samples.type() == 5 || samples.type() == 4 in function cv::ml::TrainDataImpl::setData\n"
     ]
    }
   ],
   "source": [
    "import matplotlib.pyplot as plt\n",
    "from sklearn.decomposition import PCA\n",
    "pca = PCA(n_components=100)\n",
    "\n",
    "fashion = cv2.imread('../datasets/fashion.png', 0)\n",
    "print(fashion.shape)\n",
    "img = np.array([np.hsplit(row, 30) for row in np.vsplit(fashion, 30)], dtype=np.float32)\n",
    "print(img.shape)\n",
    "train_ft = img[:, :15].reshape(-1, (28 * 28))\n",
    "print(train_ft.shape)\n",
    "test_ft = img[:, 15:30].reshape(-1, (28 * 28))\n",
    "print(test_ft.shape)\n",
    "\n",
    "pca.fit(train_ft)\n",
    "train_ft = pca.transform(train_ft)\n",
    "test_ft = pca.transform(test_ft)\n",
    "\n",
    "k = np.arange(10)\n",
    "train_lb = np.repeat(k, 45).reshape(-1, 1)\n",
    "test_lb = train_lb.copy()\n",
    "\n",
    "# mean normalization\n",
    "#train_ft -= np.mean(train_ft, axis=0)\n",
    "#test_ft -= np.mean(train_ft, axis=0)\n",
    "\n",
    "model = cv2.ml.KNearest_create()\n",
    "model.train(train_ft, cv2.ml.ROW_SAMPLE, train_lb)\n",
    "ret, result, neighbors, dist = model.findNearest(test_ft, 3)\n",
    "matches = np.equal(result, test_lb)\n",
    "matches = matches.astype(np.int)\n",
    "correct = np.count_nonzero(matches)\n",
    "accuracy = (correct * 100.00) / result.size\n",
    "print('Accuracy KNN: {}'.format(accuracy))\n",
    "plt.imshow(img[29, 29], cmap=\"gray\")\n",
    "plt.show()\n",
    "\n",
    "model2 = cv2.ml.SVM_create()\n",
    "model2.setKernel(cv2.ml.SVM_LINEAR)\n",
    "model2.setC(2.67)\n",
    "model2.setGamma(5.383)\n",
    "model2.setType(cv2.ml.SVM_C_SVC)\n",
    "model2.train(train_ft, cv2.ml.ROW_SAMPLE, train_lb)\n",
    "result2 = model2.predict(test_ft)\n",
    "matches2 = np.equal(result2[1], test_lb)\n",
    "matches2 = matches2.astype(np.int)\n",
    "correct2 = np.count_nonzero(matches2)\n",
    "accuracy = (correct2 * 100.00) / result2[1].size\n",
    "print('Accuracy SVM: {}'.format(accuracy))"
   ]
  },
  {
   "cell_type": "code",
   "execution_count": 21,
   "metadata": {},
   "outputs": [
    {
     "ename": "error",
     "evalue": "OpenCV(3.4.1) C:\\projects\\opencv-python\\opencv\\modules\\ml\\src\\data.cpp:259: error: (-215) samples.type() == 5 || samples.type() == 4 in function cv::ml::TrainDataImpl::setData\n",
     "output_type": "error",
     "traceback": [
      "\u001b[1;31m---------------------------------------------------------------------------\u001b[0m",
      "\u001b[1;31merror\u001b[0m                                     Traceback (most recent call last)",
      "\u001b[1;32m<ipython-input-21-439c578049d8>\u001b[0m in \u001b[0;36m<module>\u001b[1;34m()\u001b[0m\n\u001b[0;32m     23\u001b[0m \u001b[1;31m# Create kNN model\u001b[0m\u001b[1;33m\u001b[0m\u001b[1;33m\u001b[0m\u001b[0m\n\u001b[0;32m     24\u001b[0m \u001b[0mknn\u001b[0m \u001b[1;33m=\u001b[0m \u001b[0mcv2\u001b[0m\u001b[1;33m.\u001b[0m\u001b[0mml\u001b[0m\u001b[1;33m.\u001b[0m\u001b[0mKNearest_create\u001b[0m\u001b[1;33m(\u001b[0m\u001b[1;33m)\u001b[0m\u001b[1;33m\u001b[0m\u001b[0m\n\u001b[1;32m---> 25\u001b[1;33m \u001b[0mknn\u001b[0m\u001b[1;33m.\u001b[0m\u001b[0mtrain\u001b[0m\u001b[1;33m(\u001b[0m\u001b[0mtrain_features\u001b[0m\u001b[1;33m,\u001b[0m \u001b[0mcv2\u001b[0m\u001b[1;33m.\u001b[0m\u001b[0mml\u001b[0m\u001b[1;33m.\u001b[0m\u001b[0mROW_SAMPLE\u001b[0m\u001b[1;33m,\u001b[0m \u001b[0mtrain_labels\u001b[0m\u001b[1;33m)\u001b[0m\u001b[1;33m\u001b[0m\u001b[0m\n\u001b[0m\u001b[0;32m     26\u001b[0m \u001b[1;33m\u001b[0m\u001b[0m\n\u001b[0;32m     27\u001b[0m \u001b[1;31m# Classify test results, use k = 3\u001b[0m\u001b[1;33m\u001b[0m\u001b[1;33m\u001b[0m\u001b[0m\n",
      "\u001b[1;31merror\u001b[0m: OpenCV(3.4.1) C:\\projects\\opencv-python\\opencv\\modules\\ml\\src\\data.cpp:259: error: (-215) samples.type() == 5 || samples.type() == 4 in function cv::ml::TrainDataImpl::setData\n"
     ]
    }
   ],
   "source": [
    "# PCA: MNIST - kNN\n",
    "# Load the MNIST image\n",
    "mnist = cv2.imread('../datasets/digits.png', 0)\n",
    "\n",
    "# Split the images by equal 50 x 100\n",
    "images = [np.hsplit(row, 100) for row in np.vsplit(mnist, 50)]\n",
    "images = np.array(images, dtype=np.float32)\n",
    "\n",
    "# Split the images into 50/50 train/test set\n",
    "train_features = images[:, :50].reshape(-1, (20 * 20))\n",
    "test_features = images[:, 50:100].reshape(-1, (20 * 20))\n",
    "\n",
    "# Apply PCA\n",
    "pca.fit(train_features)\n",
    "train_features = pca.transform(train_features)\n",
    "test_features = pca.transform(test_features)\n",
    "\n",
    "# Create labels\n",
    "k = np.arange(10)\n",
    "train_labels = np.repeat(k, 250).reshape(-1, 1)\n",
    "test_labels = train_labels.copy()\n",
    "\n",
    "# Create kNN model\n",
    "knn = cv2.ml.KNearest_create()\n",
    "knn.train(train_features, cv2.ml.ROW_SAMPLE, train_labels)\n",
    "\n",
    "# Classify test results, use k = 3\n",
    "ret, result, neighbors, dist = knn.findNearest(test_features, 3)\n",
    "\n",
    "# Measure model accuracy\n",
    "matches = np.equal(result, test_labels)\n",
    "\n",
    "# Convert boolean to int\n",
    "matches = matches.astype(np.int)\n",
    "\n",
    "# Count the correct predictions\n",
    "correct = np.count_nonzero(matches)\n",
    "\n",
    "# Calculate the accuracy\n",
    "accuracy = (correct * 100.0) / result.size\n",
    "\n",
    "# Print the accuracy\n",
    "print(\"Acccuracy: {}\".format(accuracy))\n"
   ]
  }
 ],
 "metadata": {
  "kernelspec": {
   "display_name": "Python 3",
   "language": "python",
   "name": "python3"
  },
  "language_info": {
   "codemirror_mode": {
    "name": "ipython",
    "version": 3
   },
   "file_extension": ".py",
   "mimetype": "text/x-python",
   "name": "python",
   "nbconvert_exporter": "python",
   "pygments_lexer": "ipython3",
   "version": "3.6.1"
  }
 },
 "nbformat": 4,
 "nbformat_minor": 2
}
